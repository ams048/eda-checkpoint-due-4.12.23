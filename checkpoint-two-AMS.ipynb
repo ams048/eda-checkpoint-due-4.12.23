{
 "cells": [
  {
   "cell_type": "markdown",
   "metadata": {
    "azdata_cell_guid": "151601c9-ca7a-412e-af80-c62a87e0837e"
   },
   "source": [
    "# Checkpoint Two: Exploratory Data Analysis\n",
    "\n",
    "Now that your chosen dataset is approved, it is time to start working on your analysis. Use this notebook to perform your EDA and make notes where directed to as you work.\n",
    "\n",
    "## Getting Started\n",
    "\n",
    "Since we have not provided your dataset for you, you will need to load the necessary files in this repository. Make sure to include a link back to the original dataset here as well.\n",
    "\n",
    "My dataset:\n",
    "\n",
    "Your first task in EDA is to import necessary libraries and create a dataframe(s). Make note in the form of code comments of what your thought process is as you work on this setup task.\n",
    "\n",
    "Eva's Comments: Hi Allyson, I saw two versions so looked at the copy1. Can you help me understand why you look at data for each individual csv when you combined them into one? Do all of the csv files follow the same format with the same columns? If so, I'd encourage you to do your exploration on the combined df. --- Yes they do, I started exploring them separately at first and then I combined them. I have updated this. \n",
    "\n",
    "I would also encourage you to look for null values if you haven't already.\n",
    "\n",
    "Can you explain what the distribution of affiliations visualization is showing? What are the affiliations? I'm having a bit of trouble following that one."
   ]
  },
  {
   "cell_type": "code",
   "execution_count": null,
   "metadata": {
    "azdata_cell_guid": "7b503e37-6df5-4433-acfb-678b1346db14"
   },
   "outputs": [],
   "source": [
    "import pandas as pd\n",
    "import numpy as np\n",
    "import matplotlib.pyplot as plt\n",
    "import seaborn as sns\n",
    "\n",
    "# Import eo_pr.csv\n",
    "eo_pr = pd.read_csv('eo_pr.csv')\n",
    "\n",
    "# Import eo_xx.csv\n",
    "eo_xx = pd.read_csv('eo_xx.csv')\n",
    "\n",
    "# Import eo1.csv\n",
    "eo1 = pd.read_csv('eo1.csv')\n",
    "\n",
    "# Import eo2.csv\n",
    "eo2 = pd.read_csv('eo2.csv')\n",
    "\n",
    "# Import eo3.csv\n",
    "eo3 = pd.read_csv('eo3.csv')\n",
    "\n",
    "# Import eo4.csv\n",
    "eo4 = pd.read_csv('eo4.csv')"
   ]
  },
  {
   "cell_type": "code",
   "execution_count": null,
   "metadata": {},
   "outputs": [],
   "source": [
    "df1 = pd.read_csv(\"eo1.csv\")\n",
    "df2 = pd.read_csv(\"eo2.csv\")\n",
    "df3 = pd.read_csv(\"eo3.csv\")\n",
    "df4 = pd.read_csv(\"eo4.csv\")\n",
    "df_pr = pd.read_csv(\"eo_pr.csv\")\n",
    "df_xx = pd.read_csv(\"eo_xx.csv\")"
   ]
  },
  {
   "cell_type": "code",
   "execution_count": null,
   "metadata": {},
   "outputs": [],
   "source": [
    "import pandas as pd\n",
    "\n",
    "# Read the CSV files into individual dataframes\n",
    "df1 = pd.read_csv(\"eo1.csv\")\n",
    "df2 = pd.read_csv(\"eo2.csv\")\n",
    "df3 = pd.read_csv(\"eo3.csv\")\n",
    "df4 = pd.read_csv(\"eo4.csv\")\n",
    "df_pr = pd.read_csv(\"eo_pr.csv\")\n",
    "df_xx = pd.read_csv(\"eo_xx.csv\")\n",
    "\n",
    "# Combine the dataframes\n",
    "df_combined = pd.concat([df1, df2, df3, df4, df_pr, df_xx], ignore_index=True)\n",
    "\n",
    "# Print the combined dataframe\n",
    "print(df_combined)"
   ]
  },
  {
   "cell_type": "code",
   "execution_count": 4,
   "metadata": {},
   "outputs": [
    {
     "name": "stdout",
     "output_type": "stream",
     "text": [
      "EIN                       0\n",
      "NAME                      0\n",
      "ICO                  552140\n",
      "STREET                    4\n",
      "CITY                      0\n",
      "STATE                  2420\n",
      "ZIP                       0\n",
      "GROUP                     0\n",
      "SUBSECTION                0\n",
      "AFFILIATION               0\n",
      "CLASSIFICATION            0\n",
      "RULING                    0\n",
      "DEDUCTIBILITY             0\n",
      "FOUNDATION                0\n",
      "ACTIVITY                  0\n",
      "ORGANIZATION              0\n",
      "STATUS                    0\n",
      "TAX_PERIOD           334945\n",
      "ASSET_CD                  0\n",
      "INCOME_CD                 0\n",
      "FILING_REQ_CD             0\n",
      "PF_FILING_REQ_CD          0\n",
      "ACCT_PD                   0\n",
      "ASSET_AMT            352284\n",
      "INCOME_AMT           352284\n",
      "REVENUE_AMT          459554\n",
      "NTEE_CD              658381\n",
      "SORT_NAME           1197362\n",
      "dtype: int64\n"
     ]
    }
   ],
   "source": [
    "#look at null numbers \n",
    "import pandas as pd\n",
    "\n",
    "# Check for null values in df_combined\n",
    "null_counts = df_combined.isnull().sum()\n",
    "\n",
    "# Display the null value counts\n",
    "print(null_counts)\n"
   ]
  },
  {
   "cell_type": "code",
   "execution_count": 5,
   "metadata": {
    "scrolled": true
   },
   "outputs": [
    {
     "data": {
      "text/html": [
       "<div>\n",
       "<style scoped>\n",
       "    .dataframe tbody tr th:only-of-type {\n",
       "        vertical-align: middle;\n",
       "    }\n",
       "\n",
       "    .dataframe tbody tr th {\n",
       "        vertical-align: top;\n",
       "    }\n",
       "\n",
       "    .dataframe thead th {\n",
       "        text-align: right;\n",
       "    }\n",
       "</style>\n",
       "<table border=\"1\" class=\"dataframe\">\n",
       "  <thead>\n",
       "    <tr style=\"text-align: right;\">\n",
       "      <th></th>\n",
       "      <th>EIN</th>\n",
       "      <th>NAME</th>\n",
       "      <th>ICO</th>\n",
       "      <th>STREET</th>\n",
       "      <th>CITY</th>\n",
       "      <th>STATE</th>\n",
       "      <th>ZIP</th>\n",
       "      <th>GROUP</th>\n",
       "      <th>SUBSECTION</th>\n",
       "      <th>AFFILIATION</th>\n",
       "      <th>...</th>\n",
       "      <th>ASSET_CD</th>\n",
       "      <th>INCOME_CD</th>\n",
       "      <th>FILING_REQ_CD</th>\n",
       "      <th>PF_FILING_REQ_CD</th>\n",
       "      <th>ACCT_PD</th>\n",
       "      <th>ASSET_AMT</th>\n",
       "      <th>INCOME_AMT</th>\n",
       "      <th>REVENUE_AMT</th>\n",
       "      <th>NTEE_CD</th>\n",
       "      <th>SORT_NAME</th>\n",
       "    </tr>\n",
       "  </thead>\n",
       "  <tbody>\n",
       "    <tr>\n",
       "      <th>0</th>\n",
       "      <td>19818</td>\n",
       "      <td>PALMER SECOND BAPTIST CHURCH</td>\n",
       "      <td>NaN</td>\n",
       "      <td>1050 THORNDIKE ST</td>\n",
       "      <td>PALMER</td>\n",
       "      <td>MA</td>\n",
       "      <td>01069-1507</td>\n",
       "      <td>3125</td>\n",
       "      <td>3</td>\n",
       "      <td>9</td>\n",
       "      <td>...</td>\n",
       "      <td>0</td>\n",
       "      <td>0</td>\n",
       "      <td>6</td>\n",
       "      <td>0</td>\n",
       "      <td>12</td>\n",
       "      <td>NaN</td>\n",
       "      <td>NaN</td>\n",
       "      <td>NaN</td>\n",
       "      <td>NaN</td>\n",
       "      <td>3514</td>\n",
       "    </tr>\n",
       "    <tr>\n",
       "      <th>1</th>\n",
       "      <td>29215</td>\n",
       "      <td>ST GEORGE CATHEDRAL</td>\n",
       "      <td>NaN</td>\n",
       "      <td>523 E BROADWAY</td>\n",
       "      <td>SOUTH BOSTON</td>\n",
       "      <td>MA</td>\n",
       "      <td>02127-4415</td>\n",
       "      <td>2365</td>\n",
       "      <td>3</td>\n",
       "      <td>9</td>\n",
       "      <td>...</td>\n",
       "      <td>0</td>\n",
       "      <td>0</td>\n",
       "      <td>6</td>\n",
       "      <td>0</td>\n",
       "      <td>12</td>\n",
       "      <td>NaN</td>\n",
       "      <td>NaN</td>\n",
       "      <td>NaN</td>\n",
       "      <td>NaN</td>\n",
       "      <td>NaN</td>\n",
       "    </tr>\n",
       "    <tr>\n",
       "      <th>2</th>\n",
       "      <td>587764</td>\n",
       "      <td>IGLESIA BETHESDA INC</td>\n",
       "      <td>NaN</td>\n",
       "      <td>157 ANDOVER ST</td>\n",
       "      <td>LOWELL</td>\n",
       "      <td>MA</td>\n",
       "      <td>01852-2348</td>\n",
       "      <td>0</td>\n",
       "      <td>3</td>\n",
       "      <td>3</td>\n",
       "      <td>...</td>\n",
       "      <td>0</td>\n",
       "      <td>0</td>\n",
       "      <td>6</td>\n",
       "      <td>0</td>\n",
       "      <td>12</td>\n",
       "      <td>NaN</td>\n",
       "      <td>NaN</td>\n",
       "      <td>NaN</td>\n",
       "      <td>X21</td>\n",
       "      <td>NaN</td>\n",
       "    </tr>\n",
       "    <tr>\n",
       "      <th>3</th>\n",
       "      <td>635913</td>\n",
       "      <td>MINISTERIO APOSTOLICO JESUCRISTO ES EL SENOR INC</td>\n",
       "      <td>NaN</td>\n",
       "      <td>454 ESSEX ST</td>\n",
       "      <td>LAWRENCE</td>\n",
       "      <td>MA</td>\n",
       "      <td>01840-1242</td>\n",
       "      <td>0</td>\n",
       "      <td>3</td>\n",
       "      <td>3</td>\n",
       "      <td>...</td>\n",
       "      <td>0</td>\n",
       "      <td>0</td>\n",
       "      <td>6</td>\n",
       "      <td>0</td>\n",
       "      <td>12</td>\n",
       "      <td>NaN</td>\n",
       "      <td>NaN</td>\n",
       "      <td>NaN</td>\n",
       "      <td>X21</td>\n",
       "      <td>NaN</td>\n",
       "    </tr>\n",
       "    <tr>\n",
       "      <th>4</th>\n",
       "      <td>765634</td>\n",
       "      <td>MERCY CHAPEL INTERNATIONAL</td>\n",
       "      <td>NaN</td>\n",
       "      <td>75 MORTON VILLAGE DR APT 408</td>\n",
       "      <td>MATTAPAN</td>\n",
       "      <td>MA</td>\n",
       "      <td>02126-2433</td>\n",
       "      <td>0</td>\n",
       "      <td>3</td>\n",
       "      <td>3</td>\n",
       "      <td>...</td>\n",
       "      <td>0</td>\n",
       "      <td>0</td>\n",
       "      <td>6</td>\n",
       "      <td>0</td>\n",
       "      <td>12</td>\n",
       "      <td>NaN</td>\n",
       "      <td>NaN</td>\n",
       "      <td>NaN</td>\n",
       "      <td>X20</td>\n",
       "      <td>NaN</td>\n",
       "    </tr>\n",
       "  </tbody>\n",
       "</table>\n",
       "<p>5 rows × 28 columns</p>\n",
       "</div>"
      ],
      "text/plain": [
       "      EIN                                              NAME  ICO  \\\n",
       "0   19818                      PALMER SECOND BAPTIST CHURCH  NaN   \n",
       "1   29215                               ST GEORGE CATHEDRAL  NaN   \n",
       "2  587764                              IGLESIA BETHESDA INC  NaN   \n",
       "3  635913  MINISTERIO APOSTOLICO JESUCRISTO ES EL SENOR INC  NaN   \n",
       "4  765634                        MERCY CHAPEL INTERNATIONAL  NaN   \n",
       "\n",
       "                         STREET          CITY STATE         ZIP  GROUP  \\\n",
       "0             1050 THORNDIKE ST        PALMER    MA  01069-1507   3125   \n",
       "1                523 E BROADWAY  SOUTH BOSTON    MA  02127-4415   2365   \n",
       "2                157 ANDOVER ST        LOWELL    MA  01852-2348      0   \n",
       "3                  454 ESSEX ST      LAWRENCE    MA  01840-1242      0   \n",
       "4  75 MORTON VILLAGE DR APT 408      MATTAPAN    MA  02126-2433      0   \n",
       "\n",
       "   SUBSECTION  AFFILIATION  ...  ASSET_CD  INCOME_CD  FILING_REQ_CD  \\\n",
       "0           3            9  ...         0          0              6   \n",
       "1           3            9  ...         0          0              6   \n",
       "2           3            3  ...         0          0              6   \n",
       "3           3            3  ...         0          0              6   \n",
       "4           3            3  ...         0          0              6   \n",
       "\n",
       "   PF_FILING_REQ_CD  ACCT_PD  ASSET_AMT  INCOME_AMT  REVENUE_AMT  NTEE_CD  \\\n",
       "0                 0       12        NaN         NaN          NaN      NaN   \n",
       "1                 0       12        NaN         NaN          NaN      NaN   \n",
       "2                 0       12        NaN         NaN          NaN      X21   \n",
       "3                 0       12        NaN         NaN          NaN      X21   \n",
       "4                 0       12        NaN         NaN          NaN      X20   \n",
       "\n",
       "   SORT_NAME  \n",
       "0       3514  \n",
       "1        NaN  \n",
       "2        NaN  \n",
       "3        NaN  \n",
       "4        NaN  \n",
       "\n",
       "[5 rows x 28 columns]"
      ]
     },
     "execution_count": 5,
     "metadata": {},
     "output_type": "execute_result"
    }
   ],
   "source": [
    "df_combined.head()"
   ]
  },
  {
   "cell_type": "code",
   "execution_count": 6,
   "metadata": {},
   "outputs": [
    {
     "data": {
      "text/plain": [
       "(1635278, 28)"
      ]
     },
     "execution_count": 6,
     "metadata": {},
     "output_type": "execute_result"
    }
   ],
   "source": [
    "df_combined.shape"
   ]
  },
  {
   "cell_type": "code",
   "execution_count": 7,
   "metadata": {},
   "outputs": [
    {
     "name": "stdout",
     "output_type": "stream",
     "text": [
      "<class 'pandas.core.frame.DataFrame'>\n",
      "RangeIndex: 1635278 entries, 0 to 1635277\n",
      "Data columns (total 28 columns):\n",
      " #   Column            Non-Null Count    Dtype  \n",
      "---  ------            --------------    -----  \n",
      " 0   EIN               1635278 non-null  int64  \n",
      " 1   NAME              1635278 non-null  object \n",
      " 2   ICO               1083138 non-null  object \n",
      " 3   STREET            1635274 non-null  object \n",
      " 4   CITY              1635278 non-null  object \n",
      " 5   STATE             1632858 non-null  object \n",
      " 6   ZIP               1635278 non-null  object \n",
      " 7   GROUP             1635278 non-null  int64  \n",
      " 8   SUBSECTION        1635278 non-null  int64  \n",
      " 9   AFFILIATION       1635278 non-null  int64  \n",
      " 10  CLASSIFICATION    1635278 non-null  int64  \n",
      " 11  RULING            1635278 non-null  int64  \n",
      " 12  DEDUCTIBILITY     1635278 non-null  int64  \n",
      " 13  FOUNDATION        1635278 non-null  int64  \n",
      " 14  ACTIVITY          1635278 non-null  int64  \n",
      " 15  ORGANIZATION      1635278 non-null  int64  \n",
      " 16  STATUS            1635278 non-null  int64  \n",
      " 17  TAX_PERIOD        1300333 non-null  float64\n",
      " 18  ASSET_CD          1635278 non-null  int64  \n",
      " 19  INCOME_CD         1635278 non-null  int64  \n",
      " 20  FILING_REQ_CD     1635278 non-null  int64  \n",
      " 21  PF_FILING_REQ_CD  1635278 non-null  int64  \n",
      " 22  ACCT_PD           1635278 non-null  int64  \n",
      " 23  ASSET_AMT         1282994 non-null  float64\n",
      " 24  INCOME_AMT        1282994 non-null  float64\n",
      " 25  REVENUE_AMT       1175724 non-null  float64\n",
      " 26  NTEE_CD           976897 non-null   object \n",
      " 27  SORT_NAME         437916 non-null   object \n",
      "dtypes: float64(4), int64(16), object(8)\n",
      "memory usage: 349.3+ MB\n"
     ]
    }
   ],
   "source": [
    "df_combined.info()"
   ]
  },
  {
   "cell_type": "code",
   "execution_count": 8,
   "metadata": {},
   "outputs": [
    {
     "name": "stdout",
     "output_type": "stream",
     "text": [
      "df_combined summary statistics:\n",
      "                EIN         GROUP    SUBSECTION   AFFILIATION  CLASSIFICATION  \\\n",
      "count  1.635278e+06  1.635278e+06  1.635278e+06  1.635278e+06    1.635278e+06   \n",
      "mean   4.721234e+08  7.523340e+02  4.346013e+00  4.638687e+00    2.276860e+03   \n",
      "std    2.466882e+08  1.856847e+03  6.323481e+00  2.694518e+00    2.125220e+03   \n",
      "min    1.000000e+00  0.000000e+00  0.000000e+00  0.000000e+00    0.000000e+00   \n",
      "25%    2.639248e+08  0.000000e+00  3.000000e+00  3.000000e+00    1.000000e+03   \n",
      "50%    4.550294e+08  0.000000e+00  3.000000e+00  3.000000e+00    1.000000e+03   \n",
      "75%    6.409117e+08  2.390000e+02  3.000000e+00  9.000000e+00    2.000000e+03   \n",
      "max    9.990094e+08  9.707000e+03  9.200000e+01  9.000000e+00    9.710000e+03   \n",
      "\n",
      "             RULING  DEDUCTIBILITY    FOUNDATION      ACTIVITY  ORGANIZATION  \\\n",
      "count  1.635278e+06   1.635278e+06  1.635278e+06  1.635278e+06  1.635278e+06   \n",
      "mean   1.974210e+05   1.138507e+00  1.030713e+01  1.401363e+08  2.069019e+00   \n",
      "std    1.858521e+04   4.108034e-01  6.392006e+00  2.621931e+08  1.756092e+00   \n",
      "min    0.000000e+00   0.000000e+00  0.000000e+00  0.000000e+00  0.000000e+00   \n",
      "25%    1.973040e+05   1.000000e+00  4.000000e+00  0.000000e+00  1.000000e+00   \n",
      "50%    1.998120e+05   1.000000e+00  1.500000e+01  0.000000e+00  1.000000e+00   \n",
      "75%    2.011090e+05   1.000000e+00  1.500000e+01  1.611801e+08  5.000000e+00   \n",
      "max    2.017070e+05   4.000000e+00  2.400000e+01  9.990000e+08  6.000000e+00   \n",
      "\n",
      "             STATUS    TAX_PERIOD      ASSET_CD     INCOME_CD  FILING_REQ_CD  \\\n",
      "count  1.635278e+06  1.300333e+06  1.635278e+06  1.635278e+06   1.635278e+06   \n",
      "mean   1.061561e+00  2.015748e+05  1.621505e+00  1.570253e+00   2.239843e+00   \n",
      "std    9.181594e-01  1.005465e+02  2.350207e+00  2.229409e+00   1.897931e+00   \n",
      "min    1.000000e+00  1.979060e+05  0.000000e+00  0.000000e+00   0.000000e+00   \n",
      "25%    1.000000e+00  2.015120e+05  0.000000e+00  0.000000e+00   1.000000e+00   \n",
      "50%    1.000000e+00  2.016070e+05  0.000000e+00  0.000000e+00   2.000000e+00   \n",
      "75%    1.000000e+00  2.016120e+05  3.000000e+00  3.000000e+00   2.000000e+00   \n",
      "max    2.500000e+01  2.017070e+05  9.000000e+00  9.000000e+00   8.800000e+01   \n",
      "\n",
      "       PF_FILING_REQ_CD       ACCT_PD     ASSET_AMT    INCOME_AMT  \\\n",
      "count      1.635278e+06  1.635278e+06  1.282994e+06  1.282994e+06   \n",
      "mean       7.071152e-02  1.000052e+01  5.080010e+06  3.156928e+06   \n",
      "std        2.591681e-01  2.967373e+00  2.916971e+08  1.835944e+08   \n",
      "min        0.000000e+00  0.000000e+00  0.000000e+00 -3.799674e+07   \n",
      "25%        0.000000e+00  7.000000e+00  0.000000e+00  0.000000e+00   \n",
      "50%        0.000000e+00  1.200000e+01  0.000000e+00  0.000000e+00   \n",
      "75%        0.000000e+00  1.200000e+01  1.938690e+05  1.527080e+05   \n",
      "max        8.000000e+00  1.200000e+01  2.500000e+11  8.533663e+10   \n",
      "\n",
      "        REVENUE_AMT  \n",
      "count  1.175724e+06  \n",
      "mean   2.151550e+06  \n",
      "std    7.563173e+07  \n",
      "min   -7.906811e+07  \n",
      "25%    0.000000e+00  \n",
      "50%    0.000000e+00  \n",
      "75%    1.089342e+05  \n",
      "max    4.846638e+10  \n"
     ]
    }
   ],
   "source": [
    "print(\"df_combined summary statistics:\")\n",
    "print(df_combined.describe())"
   ]
  },
  {
   "cell_type": "code",
   "execution_count": 22,
   "metadata": {},
   "outputs": [
    {
     "data": {
      "text/plain": [
       "1635278"
      ]
     },
     "execution_count": 22,
     "metadata": {},
     "output_type": "execute_result"
    }
   ],
   "source": [
    "len(df_combined)"
   ]
  },
  {
   "cell_type": "markdown",
   "metadata": {
    "azdata_cell_guid": "129ce836-524b-4ea8-b394-a959f9308d6a"
   },
   "source": [
    "## Get to Know the Numbers\n",
    "\n",
    "Now that you have everything setup, put any code that you use to get to know the dataframe and its rows and columns better in the cell below. You can use whatever techniques you like, except for visualizations. You will put those in a separate section.\n",
    "\n",
    "When working on your code, make sure to leave comments so that your mentors can understand your thought process."
   ]
  },
  {
   "cell_type": "code",
   "execution_count": 9,
   "metadata": {
    "scrolled": true
   },
   "outputs": [
    {
     "name": "stdout",
     "output_type": "stream",
     "text": [
      "['EIN' 'NAME' 'ICO' 'STREET' 'CITY' 'STATE' 'ZIP' 'GROUP' 'SUBSECTION'\n",
      " 'AFFILIATION' 'CLASSIFICATION' 'RULING' 'DEDUCTIBILITY' 'FOUNDATION'\n",
      " 'ACTIVITY' 'ORGANIZATION' 'STATUS' 'TAX_PERIOD' 'ASSET_CD' 'INCOME_CD'\n",
      " 'FILING_REQ_CD' 'PF_FILING_REQ_CD' 'ACCT_PD' 'ASSET_AMT' 'INCOME_AMT'\n",
      " 'REVENUE_AMT' 'NTEE_CD' 'SORT_NAME']\n"
     ]
    }
   ],
   "source": [
    "print(df_combined.columns.values)"
   ]
  },
  {
   "cell_type": "code",
   "execution_count": 10,
   "metadata": {
    "scrolled": true
   },
   "outputs": [
    {
     "name": "stdout",
     "output_type": "stream",
     "text": [
      "<class 'pandas.core.frame.DataFrame'>\n",
      "RangeIndex: 1635278 entries, 0 to 1635277\n",
      "Data columns (total 28 columns):\n",
      " #   Column            Non-Null Count    Dtype  \n",
      "---  ------            --------------    -----  \n",
      " 0   EIN               1635278 non-null  int64  \n",
      " 1   NAME              1635278 non-null  object \n",
      " 2   ICO               1083138 non-null  object \n",
      " 3   STREET            1635274 non-null  object \n",
      " 4   CITY              1635278 non-null  object \n",
      " 5   STATE             1632858 non-null  object \n",
      " 6   ZIP               1635278 non-null  object \n",
      " 7   GROUP             1635278 non-null  int64  \n",
      " 8   SUBSECTION        1635278 non-null  int64  \n",
      " 9   AFFILIATION       1635278 non-null  int64  \n",
      " 10  CLASSIFICATION    1635278 non-null  int64  \n",
      " 11  RULING            1635278 non-null  int64  \n",
      " 12  DEDUCTIBILITY     1635278 non-null  int64  \n",
      " 13  FOUNDATION        1635278 non-null  int64  \n",
      " 14  ACTIVITY          1635278 non-null  int64  \n",
      " 15  ORGANIZATION      1635278 non-null  int64  \n",
      " 16  STATUS            1635278 non-null  int64  \n",
      " 17  TAX_PERIOD        1300333 non-null  float64\n",
      " 18  ASSET_CD          1635278 non-null  int64  \n",
      " 19  INCOME_CD         1635278 non-null  int64  \n",
      " 20  FILING_REQ_CD     1635278 non-null  int64  \n",
      " 21  PF_FILING_REQ_CD  1635278 non-null  int64  \n",
      " 22  ACCT_PD           1635278 non-null  int64  \n",
      " 23  ASSET_AMT         1282994 non-null  float64\n",
      " 24  INCOME_AMT        1282994 non-null  float64\n",
      " 25  REVENUE_AMT       1175724 non-null  float64\n",
      " 26  NTEE_CD           976897 non-null   object \n",
      " 27  SORT_NAME         437916 non-null   object \n",
      "dtypes: float64(4), int64(16), object(8)\n",
      "memory usage: 349.3+ MB\n"
     ]
    }
   ],
   "source": [
    "df_combined.info()"
   ]
  },
  {
   "cell_type": "code",
   "execution_count": 76,
   "metadata": {},
   "outputs": [
    {
     "name": "stdout",
     "output_type": "stream",
     "text": [
      "            EIN                                        NAME  \\\n",
      "0      10674605  IGLESIA FUENTE DE AGUA VIVA ORLANDO FL INC   \n",
      "1      10709908                          HOGARES AMPARO INC   \n",
      "2      20533102                       PATHSTONE CORPORATION   \n",
      "3      43700254   IGLESIA EVANGELICA MISIONERA FUERZA AGAPE   \n",
      "4      60602997                    TITI MILLIE DAY CARE INC   \n",
      "...         ...                                         ...   \n",
      "3319  990383004     JOHN E AND JANET E MCCULLOCH FOUNDATION   \n",
      "3320  990805980               IGLESIA CRISTIANA BETESDA INC   \n",
      "3321  993000079                     SAIPAN CHURCH OF CHRIST   \n",
      "3322  993006811             SAIPAN-PALAN EVANGELICAL CHURCH   \n",
      "3323  996016793       GEORGIA AUGUSTA UNIVERSITAT GOTTINGEN   \n",
      "\n",
      "                           STREET         CITY STATE         ZIP  GROUP  \\\n",
      "0                     PO BOX 3869     CAROLINA    PR  00984-3869      0   \n",
      "1        800 HIOODROMO ST STE 105     SAN JUAN    PR  00909-0000      0   \n",
      "2                    1122 CALLE 5     SAN JUAN    PR  00927-5131   9113   \n",
      "3                      PO BOX 580  SAN ANTONIO    PR  00690-0580   2046   \n",
      "4                     PO BOX 1347      GUANICA    PR  00653-1347      0   \n",
      "...                           ...          ...   ...         ...    ...   \n",
      "3319               HAMILTON HM BX      BERMUDA   NaN  00000-0000      0   \n",
      "3320  2605 CALLE VIVAS VALDIVIESO        PONCE    PR  00728-3823   2046   \n",
      "3321                PO BOX 500549       SAIPAN    MP  96950-0549      0   \n",
      "3322                  PO BOX 5072       SAIPAN    MP  96950-5072      0   \n",
      "3323           ZU GOTTINGEN 37027      GERMANY   NaN  00000-0000      0   \n",
      "\n",
      "      SUBSECTION  AFFILIATION  CLASSIFICATION  ...  DEDUCTIBILITY  FOUNDATION  \\\n",
      "0              3            3            7000  ...              1          10   \n",
      "1              3            3            1000  ...              1           4   \n",
      "2              3            9            1000  ...              1          15   \n",
      "3              3            9            7000  ...              1          10   \n",
      "4              3            3            1000  ...              1          15   \n",
      "...          ...          ...             ...  ...            ...         ...   \n",
      "3319           3            3            1000  ...              1           4   \n",
      "3320           3            9            7000  ...              1          10   \n",
      "3321           3            3            7000  ...              1          10   \n",
      "3322           3            3            7000  ...              1          10   \n",
      "3323           3            3            1000  ...              1          14   \n",
      "\n",
      "       ACTIVITY  ORGANIZATION  STATUS  ASSET_CD  INCOME_CD  FILING_REQ_CD  \\\n",
      "0             0             1       1         0          0              6   \n",
      "1             0             1       1         2          2              0   \n",
      "2     994566560             1       1         0          0              1   \n",
      "3       1000000             5       1         0          0              6   \n",
      "4             0             1       1         3          4              1   \n",
      "...         ...           ...     ...       ...        ...            ...   \n",
      "3319          0             1       1         4          4              0   \n",
      "3320    1000000             5       1         0          0              6   \n",
      "3321          0             1       1         0          0              6   \n",
      "3322          0             1       1         0          0              6   \n",
      "3323   30000000             5       1         7          6              1   \n",
      "\n",
      "      PF_FILING_REQ_CD  ACCT_PD  \n",
      "0                    0       12  \n",
      "1                    1        6  \n",
      "2                    0        9  \n",
      "3                    0       12  \n",
      "4                    0        9  \n",
      "...                ...      ...  \n",
      "3319                 1       12  \n",
      "3320                 0       12  \n",
      "3321                 0       12  \n",
      "3322                 0       12  \n",
      "3323                 0       12  \n",
      "\n",
      "[1635278 rows x 21 columns]\n"
     ]
    }
   ],
   "source": [
    "columns_to_drop = ['ICO', 'TAX_PERIOD', 'ASSET_AMT', 'INCOME_AMT', 'REVENUE_AMT', 'NTEE_CD', 'SORT_NAME']\n",
    "df_combined_dropped = df_combined.drop(columns=columns_to_drop)\n",
    "print(df_combined_dropped)"
   ]
  },
  {
   "cell_type": "code",
   "execution_count": 11,
   "metadata": {},
   "outputs": [
    {
     "name": "stdout",
     "output_type": "stream",
     "text": [
      "<class 'pandas.core.frame.DataFrame'>\n",
      "Int64Index: 1632854 entries, 0 to 1635276\n",
      "Data columns (total 28 columns):\n",
      " #   Column            Non-Null Count    Dtype  \n",
      "---  ------            --------------    -----  \n",
      " 0   EIN               1632854 non-null  int64  \n",
      " 1   NAME              1632854 non-null  object \n",
      " 2   ICO               1081504 non-null  object \n",
      " 3   STREET            1632854 non-null  object \n",
      " 4   CITY              1632854 non-null  object \n",
      " 5   STATE             1632854 non-null  object \n",
      " 6   ZIP               1632854 non-null  object \n",
      " 7   GROUP             1632854 non-null  int64  \n",
      " 8   SUBSECTION        1632854 non-null  int64  \n",
      " 9   AFFILIATION       1632854 non-null  int64  \n",
      " 10  CLASSIFICATION    1632854 non-null  int64  \n",
      " 11  RULING            1632854 non-null  int64  \n",
      " 12  DEDUCTIBILITY     1632854 non-null  int64  \n",
      " 13  FOUNDATION        1632854 non-null  int64  \n",
      " 14  ACTIVITY          1632854 non-null  int64  \n",
      " 15  ORGANIZATION      1632854 non-null  int64  \n",
      " 16  STATUS            1632854 non-null  int64  \n",
      " 17  TAX_PERIOD        1298311 non-null  float64\n",
      " 18  ASSET_CD          1632854 non-null  int64  \n",
      " 19  INCOME_CD         1632854 non-null  int64  \n",
      " 20  FILING_REQ_CD     1632854 non-null  int64  \n",
      " 21  PF_FILING_REQ_CD  1632854 non-null  int64  \n",
      " 22  ACCT_PD           1632854 non-null  int64  \n",
      " 23  ASSET_AMT         1280998 non-null  float64\n",
      " 24  INCOME_AMT        1280998 non-null  float64\n",
      " 25  REVENUE_AMT       1173978 non-null  float64\n",
      " 26  NTEE_CD           975340 non-null   object \n",
      " 27  SORT_NAME         437496 non-null   object \n",
      "dtypes: float64(4), int64(16), object(8)\n",
      "memory usage: 361.3+ MB\n",
      "None\n"
     ]
    }
   ],
   "source": [
    "# Drop rows with missing values in specific columns\n",
    "df_combined.dropna(subset=['STREET', 'STATE'], inplace=True)\n",
    "\n",
    "# Convert data types\n",
    "df_combined['ASSET_AMT'] = pd.to_numeric(df_combined['ASSET_AMT'], errors='coerce')\n",
    "df_combined['INCOME_AMT'] = pd.to_numeric(df_combined['INCOME_AMT'], errors='coerce')\n",
    "\n",
    "# Print summary information after cleaning\n",
    "print(df_combined.info())"
   ]
  },
  {
   "cell_type": "code",
   "execution_count": null,
   "metadata": {
    "scrolled": false
   },
   "outputs": [],
   "source": [
    "duplicates = df_combined_dropped[df_combined_dropped.duplicated()]\n",
    "print(duplicates)"
   ]
  },
  {
   "cell_type": "code",
   "execution_count": null,
   "metadata": {
    "scrolled": true
   },
   "outputs": [],
   "source": [
    "duplicates = df_combined[df_combined.duplicated(keep=False)]\n",
    "print(duplicates)"
   ]
  },
  {
   "cell_type": "code",
   "execution_count": null,
   "metadata": {},
   "outputs": [],
   "source": [
    "df_combined_dropped = df_combined.drop_duplicates()\n",
    "print(df_combined_dropped)"
   ]
  },
  {
   "cell_type": "code",
   "execution_count": null,
   "metadata": {},
   "outputs": [],
   "source": [
    "unique_states = df_combined[\"STATE\"].unique()\n",
    "print(unique_states)"
   ]
  },
  {
   "cell_type": "code",
   "execution_count": null,
   "metadata": {
    "scrolled": true
   },
   "outputs": [],
   "source": [
    "df_combined['STATE'].value_counts().head(10)"
   ]
  },
  {
   "cell_type": "code",
   "execution_count": null,
   "metadata": {},
   "outputs": [],
   "source": [
    "df_combined['STATE'].value_counts()"
   ]
  },
  {
   "cell_type": "code",
   "execution_count": null,
   "metadata": {},
   "outputs": [],
   "source": [
    "# Calculate summary statistics for numeric columns\n",
    "numeric_columns = df_combined.select_dtypes(include=['int64', 'float64']).columns\n",
    "summary_stats = df_combined[numeric_columns].describe()\n",
    "print(summary_stats)"
   ]
  },
  {
   "cell_type": "code",
   "execution_count": null,
   "metadata": {},
   "outputs": [],
   "source": [
    "# Print unique values and their counts for categorical columns\n",
    "categorical_columns = df_combined.select_dtypes(include=['object']).columns\n",
    "for column in categorical_columns:\n",
    "    unique_values = df_combined[column].unique()\n",
    "    value_counts = df_combined[column].value_counts()\n",
    "    print(f\"Column: {column}\")\n",
    "    print(\"Unique Values:\")\n",
    "    print(unique_values)\n",
    "    print(\"Value Counts:\")\n",
    "    print(value_counts)\n",
    "    print()"
   ]
  },
  {
   "cell_type": "markdown",
   "metadata": {
    "azdata_cell_guid": "d45060f3-97bc-484a-9ef4-66145bbe9427"
   },
   "source": [
    "## Visualize\n",
    "\n",
    "Create any visualizations for your EDA here. Make note in the form of code comments of what your thought process is for your visualizations."
   ]
  },
  {
   "cell_type": "code",
   "execution_count": 26,
   "metadata": {
    "azdata_cell_guid": "f4565b03-759a-47a8-b58f-01b32a0b4b67",
    "scrolled": true
   },
   "outputs": [
    {
     "data": {
      "image/png": "[encoded data removed]",
      "text/plain": [
       "<Figure size 1000x600 with 1 Axes>"
      ]
     },
     "metadata": {},
     "output_type": "display_data"
    }
   ],
   "source": [
    "import pandas as pd\n",
    "import matplotlib.pyplot as plt\n",
    "\n",
    "# Create a horizontal bar chart of the top N organizations by income amount\n",
    "\n",
    "# Set the number of top organizations to consider\n",
    "top_n = 10\n",
    "\n",
    "# Sort the organizations by income amount (e.g., eo2 dataframe)\n",
    "top_organizations = df_combined.nlargest(top_n, 'INCOME_AMT')\n",
    "\n",
    "# Set the figure size\n",
    "plt.figure(figsize=(10, 6))\n",
    "\n",
    "# Create the horizontal bar chart\n",
    "plt.barh(top_organizations['NAME'], top_organizations['INCOME_AMT'])\n",
    "\n",
    "# Set the title and labels\n",
    "plt.title(f'Top {top_n} Organizations by Income Amount')\n",
    "plt.xlabel('Income Amount')\n",
    "plt.ylabel('Organization')\n",
    "\n",
    "# Show the plot\n",
    "plt.show()\n",
    "\n",
    "\n"
   ]
  },
  {
   "cell_type": "code",
   "execution_count": null,
   "metadata": {
    "azdata_cell_guid": "cd64bab1-db4c-4295-820d-c6464b653a3e",
    "scrolled": true
   },
   "outputs": [],
   "source": [
    "import matplotlib.pyplot as plt\n",
    "\n",
    "# Create the value counts of INCOME_AMT\n",
    "income_counts = df_combined['INCOME_AMT'].value_counts()\n",
    "\n",
    "# Set the figure size\n",
    "plt.figure(figsize=(8, 8))\n",
    "\n",
    "# Create the pie chart\n",
    "income_counts.plot(kind='pie', autopct='%1.1f%%')\n",
    "\n",
    "# Set the title and labels\n",
    "plt.title('Distribution of INCOME_AMT')\n",
    "plt.ylabel('')\n",
    "\n",
    "# Show the plot\n",
    "plt.show()\n"
   ]
  },
  {
   "cell_type": "code",
   "execution_count": null,
   "metadata": {
    "scrolled": true
   },
   "outputs": [],
   "source": [
    "import matplotlib.pyplot as plt\n",
    "import seaborn as sns\n",
    "\n",
    "plt.figure(figsize=(10, 6))\n",
    "sns.countplot(x='STATE', data=df, order=df['STATE'].value_counts().head(10).index)\n",
    "plt.title('Distribution of States')\n",
    "plt.xlabel('State')\n",
    "plt.ylabel('Count')\n",
    "plt.xticks(rotation=45)\n",
    "plt.show()\n"
   ]
  },
  {
   "cell_type": "markdown",
   "metadata": {
    "azdata_cell_guid": "d4931c0c-2c09-4ee1-95d4-73dd08c2f0a6"
   },
   "source": [
    "## Summarize Your Results\n",
    "\n",
    "With your EDA complete, answer the following questions.\n",
    "\n",
    "1. Was there anything surprising about your dataset? \n",
    "\n",
    "There are 1,234,442 unique organization names in the dataset.\n",
    "The most common organization name is \"TOASTMASTERS INTERNATIONAL\" with 9,839 occurrences.\n",
    "\n",
    "There are 871,540 unique \"In Care of Name\" values in the dataset.\n",
    "The most common \"In Care of Name\" value is \"% PEO TREASURER\" with 5,806 occurrences.\n",
    "\n",
    "There are 1,045,244 unique street addresses in the dataset.\n",
    "The most common street address is \"3700 GRAND AVE\" with 6,355 occurrences.\n",
    "\n",
    "There are 24,585 unique city names in the dataset.\n",
    "The most common city name is \"NEW YORK\" with 20,477 occurrences.\n",
    "\n",
    "There are 62 unique state codes in the dataset.\n",
    "The most common state code is \"CA\" (California) with 168,451 occurrences.\n",
    "\n",
    "There are 1,232,431 unique ZIP codes in the dataset.\n",
    "The most common ZIP code is \"50312-2806\" with 6,354 occurrences.\n",
    "\n",
    "There are 5,632 unique NTEE codes in the dataset.\n",
    "The most common NTEE code is \"X20\" with 54,352 occurrences.\n",
    "\n",
    "2. Do you have any concerns about your dataset? \n",
    "\n",
    "ICO: This column has a significant number of missing values (545,140 out of 1,635,278 entries), which may reduce its usefulness for analysis.\n",
    "\n",
    "TAX_PERIOD: This column also has a considerable number of missing values (305,945 out of 1,635,278 entries).\n",
    "\n",
    "ASSET_AMT, INCOME_AMT, and REVENUE_AMT: These columns have a substantial number of missing values (approximately 506,284, 506,284, and 517,554 missing values, respectively), which may limit their utility in analysis.\n",
    "\n",
    "NTEE_CD and SORT_NAME: These columns have a large number of missing values (approximately 658,381 and 1,197,362 missing values, respectively). Depending on the analysis objectives, I may consider dropping these columns if they are not crucial for the analysis.\n",
    "\n",
    "\n",
    "3. Is there anything you want to make note of for the next phase of your analysis, which is cleaning data? \n",
    "Identify and handle any outliers that could skew the analysis.\n",
    "Evaluate the quality and consistency of the data, looking for potential errors or inconsistencies.\n"
   ]
  }
 ],
 "metadata": {
  "kernelspec": {
   "display_name": "Python 3 (ipykernel)",
   "language": "python",
   "name": "python3"
  },
  "language_info": {
   "codemirror_mode": {
    "name": "ipython",
    "version": 3
   },
   "file_extension": ".py",
   "mimetype": "text/x-python",
   "name": "python",
   "nbconvert_exporter": "python",
   "pygments_lexer": "ipython3",
   "version": "3.9.13"
  }
 },
 "nbformat": 4,
 "nbformat_minor": 2
}
